{
 "cells": [
  {
   "cell_type": "code",
   "execution_count": 2,
   "metadata": {},
   "outputs": [],
   "source": [
    "import pandas as pd"
   ]
  },
  {
   "cell_type": "code",
   "execution_count": 17,
   "metadata": {},
   "outputs": [],
   "source": [
    "# df= pd.read_csv('DATASET_FOR_CASES\\DATASET_1_27\\DATASET (3).csv')\n",
    "# df = df.iloc[0:12780]\n",
    "# outputpath='DATASET_FOR_CASES\\DATASET_1_27_SLICE\\DATASET_3.csv'\n",
    "# df.to_csv(outputpath,sep=',',index=False)"
   ]
  },
  {
   "cell_type": "code",
   "execution_count": 32,
   "metadata": {},
   "outputs": [],
   "source": [
    "for i in range(1,28):\n",
    "    inpath = 'DATASET_FOR_CASES\\DATASET_1_27\\DATASET ('+ str(i) +').csv'\n",
    "    outpath = 'DATASET_FOR_CASES\\DATASET_1_27_SLICE\\DATASET_'+ str(i) +'.csv'\n",
    "    df= pd.read_csv(inpath)\n",
    "    df = df.iloc[0:12780]\n",
    "    df.to_csv(outpath,sep=',',index=False)"
   ]
  },
  {
   "cell_type": "code",
   "execution_count": 6,
   "metadata": {},
   "outputs": [],
   "source": [
    "for i in range(1,28):\n",
    "    inpath = 'DATASET_FOR_CASES\\DATASET_1_27_SLICE\\DATASET_'+ str(i) +'.csv'\n",
    "    outpath = 'DATASET_FOR_CASES\\DATASET_1_27_MULTIPLE\\DATASET_'+ str(i) +'.csv'\n",
    "    df= pd.read_csv(inpath)\n",
    "    \n",
    "    for j in range(0,len(df)):\n",
    "        t = df.iloc[j,2]\n",
    "        if t<20:\n",
    "            t = 0\n",
    "        elif t < 40:\n",
    "            t = 1\n",
    "        elif t < 60:\n",
    "            t = 2\n",
    "        elif t < 80:\n",
    "            t = 3\n",
    "        else:\n",
    "            t = 4\n",
    "            \n",
    "        df.iloc[j,2] = t\n",
    "    df.to_csv(outpath,sep=',',index=False)\n",
    "    "
   ]
  },
  {
   "cell_type": "code",
   "execution_count": null,
   "metadata": {},
   "outputs": [],
   "source": []
  }
 ],
 "metadata": {
  "kernelspec": {
   "display_name": "Python 3",
   "language": "python",
   "name": "python3"
  },
  "language_info": {
   "codemirror_mode": {
    "name": "ipython",
    "version": 3
   },
   "file_extension": ".py",
   "mimetype": "text/x-python",
   "name": "python",
   "nbconvert_exporter": "python",
   "pygments_lexer": "ipython3",
   "version": "3.7.6"
  }
 },
 "nbformat": 4,
 "nbformat_minor": 4
}
