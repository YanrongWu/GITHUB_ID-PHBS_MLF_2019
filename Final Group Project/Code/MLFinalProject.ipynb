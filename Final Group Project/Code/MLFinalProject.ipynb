{
 "cells": [
  {
   "cell_type": "code",
   "execution_count": 188,
   "metadata": {},
   "outputs": [],
   "source": [
    "#############################################\n",
    "#######   Final Project by Group 12    ######\n",
    "#############################################\n",
    "\n",
    "#basic library\n",
    "import pandas as pd\n",
    "import numpy as np\n",
    "\n",
    "# Prepare for the train set and test set\n",
    "from sklearn.impute import SimpleImputer\n",
    "from sklearn.preprocessing import StandardScaler\n",
    "from sklearn.model_selection import train_test_split\n",
    "\n",
    "# Functions for Generation\n",
    "from sklearn.pipeline import make_pipeline\n",
    "from sklearn.model_selection import cross_val_score\n",
    "from sklearn.model_selection import GridSearchCV\n",
    "\n",
    "# Features Selection\n",
    "from sklearn.decomposition import PCA\n",
    "\n",
    "# Algorithm for ML\n",
    "from sklearn.linear_model import LogisticRegression\n",
    "from sklearn.svm import SVC\n",
    "from sklearn.tree import DecisionTreeClassifier\n",
    "\n",
    "# Functions for evaluationb\n",
    "from sklearn.metrics import accuracy_score\n",
    "from sklearn.metrics import confusion_matrix\n",
    "from sklearn.model_selection import learning_curve\n",
    "\n",
    "# Functions to visualization\n",
    "import matplotlib.pyplot as plt\n",
    "import seaborn as sns"
   ]
  },
  {
   "cell_type": "code",
   "execution_count": 158,
   "metadata": {},
   "outputs": [],
   "source": [
    "from matplotlib.colors import ListedColormap\n",
    "\n",
    "def plot_decision_regions(X, y, classifier, test_idx=None, resolution=1):\n",
    "\n",
    "    # setup marker generator and color map\n",
    "    markers = ('s', 'x', 'o', '^', 'v')\n",
    "    colors = ('red', 'blue', 'lightgreen', 'gray', 'cyan')\n",
    "    cmap = ListedColormap(colors[:len(np.unique(y))])\n",
    "\n",
    "    # plot the decision surface\n",
    "    x1_min, x1_max = X[:, 0].min() - 1, X[:, 0].max() + 1\n",
    "    x2_min, x2_max = X[:, 1].min() - 1, X[:, 1].max() + 1\n",
    "    xx1, xx2 = np.meshgrid(np.arange(x1_min, x1_max, resolution),\n",
    "                           np.arange(x2_min, x2_max, resolution))\n",
    "    Z = classifier.predict(np.array([xx1.ravel(), xx2.ravel()]).T)\n",
    "    Z = Z.reshape(xx1.shape)\n",
    "    plt.contourf(xx1, xx2, Z, alpha=0.3, cmap=cmap)\n",
    "    plt.xlim(xx1.min(), xx1.max())\n",
    "    plt.ylim(xx2.min(), xx2.max())\n",
    "\n",
    "    for idx, cl in enumerate(np.unique(y)):\n",
    "        plt.scatter(x=X[y == cl, 0], \n",
    "                    y=X[y == cl, 1],\n",
    "                    alpha=0.8, \n",
    "                    c=colors[idx],\n",
    "                    marker=markers[idx], \n",
    "                    label=cl, \n",
    "                    edgecolor='black')\n",
    "\n",
    "    # highlight test samples\n",
    "    if test_idx:\n",
    "        # plot all samples\n",
    "        X_test, y_test = X[test_idx, :], y[test_idx]\n",
    "\n",
    "        plt.scatter(X_test[:, 0],\n",
    "                    X_test[:, 1],\n",
    "                    c='',\n",
    "                    edgecolor='black',\n",
    "                    alpha=1.0,\n",
    "                    linewidth=1,\n",
    "                    marker='o',\n",
    "                    s=100, \n",
    "                    label='test set')"
   ]
  },
  {
   "cell_type": "code",
   "execution_count": 159,
   "metadata": {},
   "outputs": [],
   "source": [
    "def plot_confusion_matrix(cm, labels_name, title):\n",
    "    cm = cm.astype('float') / cm.sum(axis=1)[:, np.newaxis]\n",
    "    plt.imshow(cm, interpolation='nearest')\n",
    "    plt.title(title)\n",
    "    plt.colorbar()\n",
    "    num_local = np.array(range(len(labels_name)))    \n",
    "    plt.xticks(num_local, labels_name, rotation=90)\n",
    "    plt.yticks(num_local, labels_name)\n",
    "    plt.ylabel('True label')    \n",
    "    plt.xlabel('Predicted label')"
   ]
  },
  {
   "cell_type": "code",
   "execution_count": 160,
   "metadata": {},
   "outputs": [
    {
     "data": {
      "text/html": [
       "<div>\n",
       "<style scoped>\n",
       "    .dataframe tbody tr th:only-of-type {\n",
       "        vertical-align: middle;\n",
       "    }\n",
       "\n",
       "    .dataframe tbody tr th {\n",
       "        vertical-align: top;\n",
       "    }\n",
       "\n",
       "    .dataframe thead th {\n",
       "        text-align: right;\n",
       "    }\n",
       "</style>\n",
       "<table border=\"1\" class=\"dataframe\">\n",
       "  <thead>\n",
       "    <tr style=\"text-align: right;\">\n",
       "      <th></th>\n",
       "      <th>DATE</th>\n",
       "      <th>DGS1</th>\n",
       "      <th>DGS3</th>\n",
       "      <th>DGS5</th>\n",
       "      <th>DGS10</th>\n",
       "      <th>10M1</th>\n",
       "      <th>10M3</th>\n",
       "      <th>10M5</th>\n",
       "      <th>5M1</th>\n",
       "      <th>5M3</th>\n",
       "      <th>...</th>\n",
       "      <th>volatility</th>\n",
       "      <th>average weekly volatility of past month</th>\n",
       "      <th>average weekly volatility of past quarter</th>\n",
       "      <th>return of past month</th>\n",
       "      <th>return of past half year</th>\n",
       "      <th>return of past year</th>\n",
       "      <th>rate of unemployment</th>\n",
       "      <th>core cpi</th>\n",
       "      <th>recession_bool</th>\n",
       "      <th>recession</th>\n",
       "    </tr>\n",
       "  </thead>\n",
       "  <tbody>\n",
       "    <tr>\n",
       "      <th>0</th>\n",
       "      <td>1962/1/2</td>\n",
       "      <td>3.22</td>\n",
       "      <td>3.70</td>\n",
       "      <td>3.88</td>\n",
       "      <td>4.06</td>\n",
       "      <td>0.84</td>\n",
       "      <td>0.36</td>\n",
       "      <td>0.18</td>\n",
       "      <td>0.66</td>\n",
       "      <td>0.18</td>\n",
       "      <td>...</td>\n",
       "      <td>3.484467</td>\n",
       "      <td>3.115505</td>\n",
       "      <td>2.659260</td>\n",
       "      <td>-0.041593</td>\n",
       "      <td>0.026245</td>\n",
       "      <td>0.104609</td>\n",
       "      <td>5.8</td>\n",
       "      <td>1.3</td>\n",
       "      <td>False</td>\n",
       "      <td>0</td>\n",
       "    </tr>\n",
       "    <tr>\n",
       "      <th>1</th>\n",
       "      <td>1962/1/3</td>\n",
       "      <td>3.24</td>\n",
       "      <td>3.70</td>\n",
       "      <td>3.87</td>\n",
       "      <td>4.03</td>\n",
       "      <td>0.79</td>\n",
       "      <td>0.33</td>\n",
       "      <td>0.16</td>\n",
       "      <td>0.63</td>\n",
       "      <td>0.17</td>\n",
       "      <td>...</td>\n",
       "      <td>2.454618</td>\n",
       "      <td>3.004331</td>\n",
       "      <td>2.670604</td>\n",
       "      <td>-0.031685</td>\n",
       "      <td>-0.018337</td>\n",
       "      <td>0.075531</td>\n",
       "      <td>5.8</td>\n",
       "      <td>1.3</td>\n",
       "      <td>False</td>\n",
       "      <td>0</td>\n",
       "    </tr>\n",
       "    <tr>\n",
       "      <th>2</th>\n",
       "      <td>1962/1/4</td>\n",
       "      <td>3.24</td>\n",
       "      <td>3.69</td>\n",
       "      <td>3.86</td>\n",
       "      <td>3.99</td>\n",
       "      <td>0.75</td>\n",
       "      <td>0.30</td>\n",
       "      <td>0.13</td>\n",
       "      <td>0.62</td>\n",
       "      <td>0.17</td>\n",
       "      <td>...</td>\n",
       "      <td>2.454618</td>\n",
       "      <td>3.004331</td>\n",
       "      <td>2.670604</td>\n",
       "      <td>-0.031685</td>\n",
       "      <td>-0.018337</td>\n",
       "      <td>0.075531</td>\n",
       "      <td>5.8</td>\n",
       "      <td>1.3</td>\n",
       "      <td>False</td>\n",
       "      <td>0</td>\n",
       "    </tr>\n",
       "    <tr>\n",
       "      <th>3</th>\n",
       "      <td>1962/1/5</td>\n",
       "      <td>3.26</td>\n",
       "      <td>3.71</td>\n",
       "      <td>3.89</td>\n",
       "      <td>4.02</td>\n",
       "      <td>0.76</td>\n",
       "      <td>0.31</td>\n",
       "      <td>0.13</td>\n",
       "      <td>0.63</td>\n",
       "      <td>0.18</td>\n",
       "      <td>...</td>\n",
       "      <td>2.454618</td>\n",
       "      <td>3.004331</td>\n",
       "      <td>2.670604</td>\n",
       "      <td>-0.031685</td>\n",
       "      <td>-0.018337</td>\n",
       "      <td>0.075531</td>\n",
       "      <td>5.8</td>\n",
       "      <td>1.3</td>\n",
       "      <td>False</td>\n",
       "      <td>0</td>\n",
       "    </tr>\n",
       "    <tr>\n",
       "      <th>4</th>\n",
       "      <td>1962/1/8</td>\n",
       "      <td>3.31</td>\n",
       "      <td>3.71</td>\n",
       "      <td>3.91</td>\n",
       "      <td>4.03</td>\n",
       "      <td>0.72</td>\n",
       "      <td>0.32</td>\n",
       "      <td>0.12</td>\n",
       "      <td>0.60</td>\n",
       "      <td>0.20</td>\n",
       "      <td>...</td>\n",
       "      <td>2.454618</td>\n",
       "      <td>3.004331</td>\n",
       "      <td>2.670604</td>\n",
       "      <td>-0.031685</td>\n",
       "      <td>-0.018337</td>\n",
       "      <td>0.075531</td>\n",
       "      <td>5.8</td>\n",
       "      <td>1.3</td>\n",
       "      <td>False</td>\n",
       "      <td>0</td>\n",
       "    </tr>\n",
       "    <tr>\n",
       "      <th>...</th>\n",
       "      <td>...</td>\n",
       "      <td>...</td>\n",
       "      <td>...</td>\n",
       "      <td>...</td>\n",
       "      <td>...</td>\n",
       "      <td>...</td>\n",
       "      <td>...</td>\n",
       "      <td>...</td>\n",
       "      <td>...</td>\n",
       "      <td>...</td>\n",
       "      <td>...</td>\n",
       "      <td>...</td>\n",
       "      <td>...</td>\n",
       "      <td>...</td>\n",
       "      <td>...</td>\n",
       "      <td>...</td>\n",
       "      <td>...</td>\n",
       "      <td>...</td>\n",
       "      <td>...</td>\n",
       "      <td>...</td>\n",
       "      <td>...</td>\n",
       "    </tr>\n",
       "    <tr>\n",
       "      <th>14519</th>\n",
       "      <td>2020/2/24</td>\n",
       "      <td>1.35</td>\n",
       "      <td>1.21</td>\n",
       "      <td>1.21</td>\n",
       "      <td>1.38</td>\n",
       "      <td>0.03</td>\n",
       "      <td>0.17</td>\n",
       "      <td>0.17</td>\n",
       "      <td>-0.14</td>\n",
       "      <td>0.00</td>\n",
       "      <td>...</td>\n",
       "      <td>1.756543</td>\n",
       "      <td>2.869429</td>\n",
       "      <td>2.137811</td>\n",
       "      <td>0.026061</td>\n",
       "      <td>0.131239</td>\n",
       "      <td>0.113730</td>\n",
       "      <td>3.5</td>\n",
       "      <td>2.4</td>\n",
       "      <td>False</td>\n",
       "      <td>0</td>\n",
       "    </tr>\n",
       "    <tr>\n",
       "      <th>14520</th>\n",
       "      <td>2020/2/25</td>\n",
       "      <td>1.30</td>\n",
       "      <td>1.16</td>\n",
       "      <td>1.16</td>\n",
       "      <td>1.33</td>\n",
       "      <td>0.03</td>\n",
       "      <td>0.17</td>\n",
       "      <td>0.17</td>\n",
       "      <td>-0.14</td>\n",
       "      <td>0.00</td>\n",
       "      <td>...</td>\n",
       "      <td>1.756543</td>\n",
       "      <td>2.869429</td>\n",
       "      <td>2.137811</td>\n",
       "      <td>0.026061</td>\n",
       "      <td>0.131239</td>\n",
       "      <td>0.113730</td>\n",
       "      <td>3.5</td>\n",
       "      <td>2.4</td>\n",
       "      <td>False</td>\n",
       "      <td>0</td>\n",
       "    </tr>\n",
       "    <tr>\n",
       "      <th>14521</th>\n",
       "      <td>2020/2/26</td>\n",
       "      <td>1.26</td>\n",
       "      <td>1.14</td>\n",
       "      <td>1.14</td>\n",
       "      <td>1.33</td>\n",
       "      <td>0.07</td>\n",
       "      <td>0.19</td>\n",
       "      <td>0.19</td>\n",
       "      <td>-0.12</td>\n",
       "      <td>0.00</td>\n",
       "      <td>...</td>\n",
       "      <td>1.756543</td>\n",
       "      <td>2.869429</td>\n",
       "      <td>2.137811</td>\n",
       "      <td>0.026061</td>\n",
       "      <td>0.131239</td>\n",
       "      <td>0.113730</td>\n",
       "      <td>3.5</td>\n",
       "      <td>2.4</td>\n",
       "      <td>False</td>\n",
       "      <td>0</td>\n",
       "    </tr>\n",
       "    <tr>\n",
       "      <th>14522</th>\n",
       "      <td>2020/2/27</td>\n",
       "      <td>1.18</td>\n",
       "      <td>1.08</td>\n",
       "      <td>1.11</td>\n",
       "      <td>1.30</td>\n",
       "      <td>0.12</td>\n",
       "      <td>0.22</td>\n",
       "      <td>0.19</td>\n",
       "      <td>-0.07</td>\n",
       "      <td>0.03</td>\n",
       "      <td>...</td>\n",
       "      <td>1.756543</td>\n",
       "      <td>2.869429</td>\n",
       "      <td>2.137811</td>\n",
       "      <td>0.026061</td>\n",
       "      <td>0.131239</td>\n",
       "      <td>0.113730</td>\n",
       "      <td>3.5</td>\n",
       "      <td>2.4</td>\n",
       "      <td>False</td>\n",
       "      <td>0</td>\n",
       "    </tr>\n",
       "    <tr>\n",
       "      <th>14523</th>\n",
       "      <td>2020/2/28</td>\n",
       "      <td>0.97</td>\n",
       "      <td>0.85</td>\n",
       "      <td>0.89</td>\n",
       "      <td>1.13</td>\n",
       "      <td>0.16</td>\n",
       "      <td>0.28</td>\n",
       "      <td>0.24</td>\n",
       "      <td>-0.08</td>\n",
       "      <td>0.04</td>\n",
       "      <td>...</td>\n",
       "      <td>12.837567</td>\n",
       "      <td>5.103656</td>\n",
       "      <td>2.974492</td>\n",
       "      <td>-0.126901</td>\n",
       "      <td>-0.037644</td>\n",
       "      <td>-0.023705</td>\n",
       "      <td>3.5</td>\n",
       "      <td>2.4</td>\n",
       "      <td>False</td>\n",
       "      <td>0</td>\n",
       "    </tr>\n",
       "  </tbody>\n",
       "</table>\n",
       "<p>14524 rows × 21 columns</p>\n",
       "</div>"
      ],
      "text/plain": [
       "            DATE  DGS1  DGS3  DGS5  DGS10  10M1  10M3  10M5   5M1   5M3  ...  \\\n",
       "0       1962/1/2  3.22  3.70  3.88   4.06  0.84  0.36  0.18  0.66  0.18  ...   \n",
       "1       1962/1/3  3.24  3.70  3.87   4.03  0.79  0.33  0.16  0.63  0.17  ...   \n",
       "2       1962/1/4  3.24  3.69  3.86   3.99  0.75  0.30  0.13  0.62  0.17  ...   \n",
       "3       1962/1/5  3.26  3.71  3.89   4.02  0.76  0.31  0.13  0.63  0.18  ...   \n",
       "4       1962/1/8  3.31  3.71  3.91   4.03  0.72  0.32  0.12  0.60  0.20  ...   \n",
       "...          ...   ...   ...   ...    ...   ...   ...   ...   ...   ...  ...   \n",
       "14519  2020/2/24  1.35  1.21  1.21   1.38  0.03  0.17  0.17 -0.14  0.00  ...   \n",
       "14520  2020/2/25  1.30  1.16  1.16   1.33  0.03  0.17  0.17 -0.14  0.00  ...   \n",
       "14521  2020/2/26  1.26  1.14  1.14   1.33  0.07  0.19  0.19 -0.12  0.00  ...   \n",
       "14522  2020/2/27  1.18  1.08  1.11   1.30  0.12  0.22  0.19 -0.07  0.03  ...   \n",
       "14523  2020/2/28  0.97  0.85  0.89   1.13  0.16  0.28  0.24 -0.08  0.04  ...   \n",
       "\n",
       "       volatility  average weekly volatility of past month  \\\n",
       "0        3.484467                                 3.115505   \n",
       "1        2.454618                                 3.004331   \n",
       "2        2.454618                                 3.004331   \n",
       "3        2.454618                                 3.004331   \n",
       "4        2.454618                                 3.004331   \n",
       "...           ...                                      ...   \n",
       "14519    1.756543                                 2.869429   \n",
       "14520    1.756543                                 2.869429   \n",
       "14521    1.756543                                 2.869429   \n",
       "14522    1.756543                                 2.869429   \n",
       "14523   12.837567                                 5.103656   \n",
       "\n",
       "       average weekly volatility of past quarter  return of past month  \\\n",
       "0                                       2.659260             -0.041593   \n",
       "1                                       2.670604             -0.031685   \n",
       "2                                       2.670604             -0.031685   \n",
       "3                                       2.670604             -0.031685   \n",
       "4                                       2.670604             -0.031685   \n",
       "...                                          ...                   ...   \n",
       "14519                                   2.137811              0.026061   \n",
       "14520                                   2.137811              0.026061   \n",
       "14521                                   2.137811              0.026061   \n",
       "14522                                   2.137811              0.026061   \n",
       "14523                                   2.974492             -0.126901   \n",
       "\n",
       "       return of past half year  return of past year  rate of unemployment  \\\n",
       "0                      0.026245             0.104609                   5.8   \n",
       "1                     -0.018337             0.075531                   5.8   \n",
       "2                     -0.018337             0.075531                   5.8   \n",
       "3                     -0.018337             0.075531                   5.8   \n",
       "4                     -0.018337             0.075531                   5.8   \n",
       "...                         ...                  ...                   ...   \n",
       "14519                  0.131239             0.113730                   3.5   \n",
       "14520                  0.131239             0.113730                   3.5   \n",
       "14521                  0.131239             0.113730                   3.5   \n",
       "14522                  0.131239             0.113730                   3.5   \n",
       "14523                 -0.037644            -0.023705                   3.5   \n",
       "\n",
       "       core cpi  recession_bool  recession  \n",
       "0           1.3           False          0  \n",
       "1           1.3           False          0  \n",
       "2           1.3           False          0  \n",
       "3           1.3           False          0  \n",
       "4           1.3           False          0  \n",
       "...         ...             ...        ...  \n",
       "14519       2.4           False          0  \n",
       "14520       2.4           False          0  \n",
       "14521       2.4           False          0  \n",
       "14522       2.4           False          0  \n",
       "14523       2.4           False          0  \n",
       "\n",
       "[14524 rows x 21 columns]"
      ]
     },
     "execution_count": 160,
     "metadata": {},
     "output_type": "execute_result"
    }
   ],
   "source": [
    "# generate the dataframe\n",
    "df= pd.read_csv('overall_data.csv')\n",
    "df"
   ]
  },
  {
   "cell_type": "code",
   "execution_count": 161,
   "metadata": {},
   "outputs": [],
   "source": [
    "dfCor = df.corr().values"
   ]
  },
  {
   "cell_type": "code",
   "execution_count": 162,
   "metadata": {},
   "outputs": [
    {
     "data": {
      "image/png": "[encoded data removed]",
      "text/plain": [
       "<Figure size 432x288 with 2 Axes>"
      ]
     },
     "metadata": {
      "needs_background": "light"
     },
     "output_type": "display_data"
    },
    {
     "data": {
      "text/plain": [
       "<Figure size 1440x1440 with 0 Axes>"
      ]
     },
     "metadata": {},
     "output_type": "display_data"
    }
   ],
   "source": [
    "# seaborn.heatmap(dfCor, center=0, annot=True, xticklabels=list('abcd'), yticklabels=list('ABCD'))\n",
    "seaborn.heatmap(dfCor)\n",
    "plt.figure(figsize=(20, 20))\n",
    "plt.show()"
   ]
  },
  {
   "cell_type": "code",
   "execution_count": 163,
   "metadata": {},
   "outputs": [
    {
     "data": {
      "text/html": [
       "<div>\n",
       "<style scoped>\n",
       "    .dataframe tbody tr th:only-of-type {\n",
       "        vertical-align: middle;\n",
       "    }\n",
       "\n",
       "    .dataframe tbody tr th {\n",
       "        vertical-align: top;\n",
       "    }\n",
       "\n",
       "    .dataframe thead th {\n",
       "        text-align: right;\n",
       "    }\n",
       "</style>\n",
       "<table border=\"1\" class=\"dataframe\">\n",
       "  <thead>\n",
       "    <tr style=\"text-align: right;\">\n",
       "      <th></th>\n",
       "      <th>10M1</th>\n",
       "      <th>10M3</th>\n",
       "      <th>recession</th>\n",
       "    </tr>\n",
       "  </thead>\n",
       "  <tbody>\n",
       "    <tr>\n",
       "      <th>0</th>\n",
       "      <td>0.84</td>\n",
       "      <td>0.36</td>\n",
       "      <td>0</td>\n",
       "    </tr>\n",
       "    <tr>\n",
       "      <th>1</th>\n",
       "      <td>0.79</td>\n",
       "      <td>0.33</td>\n",
       "      <td>0</td>\n",
       "    </tr>\n",
       "    <tr>\n",
       "      <th>2</th>\n",
       "      <td>0.75</td>\n",
       "      <td>0.30</td>\n",
       "      <td>0</td>\n",
       "    </tr>\n",
       "    <tr>\n",
       "      <th>3</th>\n",
       "      <td>0.76</td>\n",
       "      <td>0.31</td>\n",
       "      <td>0</td>\n",
       "    </tr>\n",
       "    <tr>\n",
       "      <th>4</th>\n",
       "      <td>0.72</td>\n",
       "      <td>0.32</td>\n",
       "      <td>0</td>\n",
       "    </tr>\n",
       "    <tr>\n",
       "      <th>...</th>\n",
       "      <td>...</td>\n",
       "      <td>...</td>\n",
       "      <td>...</td>\n",
       "    </tr>\n",
       "    <tr>\n",
       "      <th>14519</th>\n",
       "      <td>0.03</td>\n",
       "      <td>0.17</td>\n",
       "      <td>0</td>\n",
       "    </tr>\n",
       "    <tr>\n",
       "      <th>14520</th>\n",
       "      <td>0.03</td>\n",
       "      <td>0.17</td>\n",
       "      <td>0</td>\n",
       "    </tr>\n",
       "    <tr>\n",
       "      <th>14521</th>\n",
       "      <td>0.07</td>\n",
       "      <td>0.19</td>\n",
       "      <td>0</td>\n",
       "    </tr>\n",
       "    <tr>\n",
       "      <th>14522</th>\n",
       "      <td>0.12</td>\n",
       "      <td>0.22</td>\n",
       "      <td>0</td>\n",
       "    </tr>\n",
       "    <tr>\n",
       "      <th>14523</th>\n",
       "      <td>0.16</td>\n",
       "      <td>0.28</td>\n",
       "      <td>0</td>\n",
       "    </tr>\n",
       "  </tbody>\n",
       "</table>\n",
       "<p>14524 rows × 3 columns</p>\n",
       "</div>"
      ],
      "text/plain": [
       "       10M1  10M3  recession\n",
       "0      0.84  0.36          0\n",
       "1      0.79  0.33          0\n",
       "2      0.75  0.30          0\n",
       "3      0.76  0.31          0\n",
       "4      0.72  0.32          0\n",
       "...     ...   ...        ...\n",
       "14519  0.03  0.17          0\n",
       "14520  0.03  0.17          0\n",
       "14521  0.07  0.19          0\n",
       "14522  0.12  0.22          0\n",
       "14523  0.16  0.28          0\n",
       "\n",
       "[14524 rows x 3 columns]"
      ]
     },
     "execution_count": 163,
     "metadata": {},
     "output_type": "execute_result"
    }
   ],
   "source": [
    "#generate the demo dataframe\n",
    "df = df[['10M1','10M3','recession']]\n",
    "df"
   ]
  },
  {
   "cell_type": "code",
   "execution_count": 164,
   "metadata": {},
   "outputs": [
    {
     "data": {
      "text/html": [
       "<div>\n",
       "<style scoped>\n",
       "    .dataframe tbody tr th:only-of-type {\n",
       "        vertical-align: middle;\n",
       "    }\n",
       "\n",
       "    .dataframe tbody tr th {\n",
       "        vertical-align: top;\n",
       "    }\n",
       "\n",
       "    .dataframe thead th {\n",
       "        text-align: right;\n",
       "    }\n",
       "</style>\n",
       "<table border=\"1\" class=\"dataframe\">\n",
       "  <thead>\n",
       "    <tr style=\"text-align: right;\">\n",
       "      <th></th>\n",
       "      <th>10M1</th>\n",
       "      <th>10M3</th>\n",
       "      <th>recession</th>\n",
       "    </tr>\n",
       "  </thead>\n",
       "  <tbody>\n",
       "    <tr>\n",
       "      <th>count</th>\n",
       "      <td>14524.000000</td>\n",
       "      <td>14524.000000</td>\n",
       "      <td>14524.000000</td>\n",
       "    </tr>\n",
       "    <tr>\n",
       "      <th>mean</th>\n",
       "      <td>1.017046</td>\n",
       "      <td>0.600284</td>\n",
       "      <td>0.171578</td>\n",
       "    </tr>\n",
       "    <tr>\n",
       "      <th>std</th>\n",
       "      <td>1.139047</td>\n",
       "      <td>0.711642</td>\n",
       "      <td>0.377026</td>\n",
       "    </tr>\n",
       "    <tr>\n",
       "      <th>min</th>\n",
       "      <td>-3.440000</td>\n",
       "      <td>-1.570000</td>\n",
       "      <td>0.000000</td>\n",
       "    </tr>\n",
       "    <tr>\n",
       "      <th>25%</th>\n",
       "      <td>0.180000</td>\n",
       "      <td>0.090000</td>\n",
       "      <td>0.000000</td>\n",
       "    </tr>\n",
       "    <tr>\n",
       "      <th>50%</th>\n",
       "      <td>0.940000</td>\n",
       "      <td>0.450000</td>\n",
       "      <td>0.000000</td>\n",
       "    </tr>\n",
       "    <tr>\n",
       "      <th>75%</th>\n",
       "      <td>1.810000</td>\n",
       "      <td>1.020000</td>\n",
       "      <td>0.000000</td>\n",
       "    </tr>\n",
       "    <tr>\n",
       "      <th>max</th>\n",
       "      <td>3.530000</td>\n",
       "      <td>2.450000</td>\n",
       "      <td>1.000000</td>\n",
       "    </tr>\n",
       "  </tbody>\n",
       "</table>\n",
       "</div>"
      ],
      "text/plain": [
       "               10M1          10M3     recession\n",
       "count  14524.000000  14524.000000  14524.000000\n",
       "mean       1.017046      0.600284      0.171578\n",
       "std        1.139047      0.711642      0.377026\n",
       "min       -3.440000     -1.570000      0.000000\n",
       "25%        0.180000      0.090000      0.000000\n",
       "50%        0.940000      0.450000      0.000000\n",
       "75%        1.810000      1.020000      0.000000\n",
       "max        3.530000      2.450000      1.000000"
      ]
     },
     "execution_count": 164,
     "metadata": {},
     "output_type": "execute_result"
    }
   ],
   "source": [
    "df.describe()"
   ]
  },
  {
   "cell_type": "code",
   "execution_count": 165,
   "metadata": {},
   "outputs": [
    {
     "data": {
      "text/html": [
       "<div>\n",
       "<style scoped>\n",
       "    .dataframe tbody tr th:only-of-type {\n",
       "        vertical-align: middle;\n",
       "    }\n",
       "\n",
       "    .dataframe tbody tr th {\n",
       "        vertical-align: top;\n",
       "    }\n",
       "\n",
       "    .dataframe thead th {\n",
       "        text-align: right;\n",
       "    }\n",
       "</style>\n",
       "<table border=\"1\" class=\"dataframe\">\n",
       "  <thead>\n",
       "    <tr style=\"text-align: right;\">\n",
       "      <th></th>\n",
       "      <th>10M1</th>\n",
       "      <th>10M3</th>\n",
       "    </tr>\n",
       "  </thead>\n",
       "  <tbody>\n",
       "    <tr>\n",
       "      <th>count</th>\n",
       "      <td>14524.000000</td>\n",
       "      <td>14524.000000</td>\n",
       "    </tr>\n",
       "    <tr>\n",
       "      <th>mean</th>\n",
       "      <td>1.017046</td>\n",
       "      <td>0.600284</td>\n",
       "    </tr>\n",
       "    <tr>\n",
       "      <th>std</th>\n",
       "      <td>1.139047</td>\n",
       "      <td>0.711642</td>\n",
       "    </tr>\n",
       "    <tr>\n",
       "      <th>min</th>\n",
       "      <td>-3.440000</td>\n",
       "      <td>-1.570000</td>\n",
       "    </tr>\n",
       "    <tr>\n",
       "      <th>25%</th>\n",
       "      <td>0.180000</td>\n",
       "      <td>0.090000</td>\n",
       "    </tr>\n",
       "    <tr>\n",
       "      <th>50%</th>\n",
       "      <td>0.940000</td>\n",
       "      <td>0.450000</td>\n",
       "    </tr>\n",
       "    <tr>\n",
       "      <th>75%</th>\n",
       "      <td>1.810000</td>\n",
       "      <td>1.020000</td>\n",
       "    </tr>\n",
       "    <tr>\n",
       "      <th>max</th>\n",
       "      <td>3.530000</td>\n",
       "      <td>2.450000</td>\n",
       "    </tr>\n",
       "  </tbody>\n",
       "</table>\n",
       "</div>"
      ],
      "text/plain": [
       "               10M1          10M3\n",
       "count  14524.000000  14524.000000\n",
       "mean       1.017046      0.600284\n",
       "std        1.139047      0.711642\n",
       "min       -3.440000     -1.570000\n",
       "25%        0.180000      0.090000\n",
       "50%        0.940000      0.450000\n",
       "75%        1.810000      1.020000\n",
       "max        3.530000      2.450000"
      ]
     },
     "execution_count": 165,
     "metadata": {},
     "output_type": "execute_result"
    }
   ],
   "source": [
    "dfDemo.describe()"
   ]
  },
  {
   "cell_type": "code",
   "execution_count": 166,
   "metadata": {},
   "outputs": [
    {
     "name": "stdout",
     "output_type": "stream",
     "text": [
      "The ratio of recession is\n",
      "0.1715780776645552\n"
     ]
    }
   ],
   "source": [
    "# get the ratio for recession\n",
    "# print(f'The ratio of recession is {sum(df['recession']==True)/df.shape[0]}')\n",
    "print('The ratio of recession is')\n",
    "print(sum(df['recession']==True)/df.shape[0])"
   ]
  },
  {
   "cell_type": "code",
   "execution_count": 167,
   "metadata": {},
   "outputs": [
    {
     "data": {
      "text/plain": [
       "array([[1.19, 0.62],\n",
       "       [1.66, 0.74],\n",
       "       [1.28, 0.67],\n",
       "       ...,\n",
       "       [0.89, 0.51],\n",
       "       [2.49, 1.49],\n",
       "       [1.39, 0.77]])"
      ]
     },
     "execution_count": 167,
     "metadata": {},
     "output_type": "execute_result"
    }
   ],
   "source": [
    "XTrain"
   ]
  },
  {
   "cell_type": "code",
   "execution_count": 168,
   "metadata": {},
   "outputs": [],
   "source": [
    "# generate the test stage\n",
    "X, y = df.values[:, :-1], df.values[:, -1]\n",
    "\n",
    "XTrain, XTest, yTrain, yTest =\\\n",
    "    train_test_split(X, y, \n",
    "                     test_size=0.3, \n",
    "                     random_state=0, \n",
    "                     stratify=y)"
   ]
  },
  {
   "cell_type": "code",
   "execution_count": 169,
   "metadata": {},
   "outputs": [
    {
     "data": {
      "text/plain": [
       "array([[1.19, 0.62],\n",
       "       [1.66, 0.74],\n",
       "       [1.28, 0.67],\n",
       "       ...,\n",
       "       [0.89, 0.51],\n",
       "       [2.49, 1.49],\n",
       "       [1.39, 0.77]])"
      ]
     },
     "execution_count": 169,
     "metadata": {},
     "output_type": "execute_result"
    }
   ],
   "source": [
    "XTrain"
   ]
  },
  {
   "cell_type": "code",
   "execution_count": 170,
   "metadata": {},
   "outputs": [],
   "source": [
    "stdsc = StandardScaler()\n",
    "XTrainStd = stdsc.fit_transform(XTrain)\n",
    "XTestStd = stdsc.transform(XTest)"
   ]
  },
  {
   "cell_type": "code",
   "execution_count": 171,
   "metadata": {},
   "outputs": [
    {
     "data": {
      "text/plain": [
       "PCA(copy=True, iterated_power='auto', n_components=None, random_state=None,\n",
       "    svd_solver='auto', tol=0.0, whiten=False)"
      ]
     },
     "execution_count": 171,
     "metadata": {},
     "output_type": "execute_result"
    }
   ],
   "source": [
    "pca = PCA()\n",
    "XTrainPca = pca.fit_transform(XTrainStd)\n",
    "XTestPca = pca.transform(XTestStd)\n",
    "XTrainPca\n",
    "pca"
   ]
  },
  {
   "cell_type": "code",
   "execution_count": 172,
   "metadata": {},
   "outputs": [],
   "source": [
    "# plt.bar(range(1, 2), pca.explained_variance_ratio_, alpha=0.5, align='center')\n",
    "# plt.step(range(1, 2), np.cumsum(pca.explained_variance_ratio_), where='mid')\n",
    "# plt.ylabel('Explained variance ratio')\n",
    "# plt.xlabel('Principal components')\n",
    "\n",
    "# plt.show()"
   ]
  },
  {
   "cell_type": "code",
   "execution_count": 173,
   "metadata": {},
   "outputs": [
    {
     "data": {
      "text/plain": [
       "array([[-0.11777395, -0.08757887],\n",
       "       [-0.52840639, -0.26040904],\n",
       "       [-0.22317953, -0.09390017],\n",
       "       ...,\n",
       "       [ 0.17743023, -0.01036012],\n",
       "       [-1.78672359, -0.03246197],\n",
       "       [-0.39054135, -0.06309343]])"
      ]
     },
     "execution_count": 173,
     "metadata": {},
     "output_type": "execute_result"
    }
   ],
   "source": [
    "XTrainPca"
   ]
  },
  {
   "cell_type": "code",
   "execution_count": 174,
   "metadata": {},
   "outputs": [
    {
     "name": "stdout",
     "output_type": "stream",
     "text": [
      "Training accuracy: 0.8595317725752508\n",
      "Test accuracy: 0.8545204222120238\n"
     ]
    }
   ],
   "source": [
    "lr = LogisticRegression(C=1, random_state=1)\n",
    "lr.fit(XTrainPca, yTrain)\n",
    "\n",
    "print('Training accuracy:', lr.score(XTrainPca, yTrain))\n",
    "print('Test accuracy:', lr.score(XTestPca, yTest))"
   ]
  },
  {
   "cell_type": "code",
   "execution_count": 182,
   "metadata": {},
   "outputs": [
    {
     "data": {
      "image/png": "[encoded data removed]",
      "text/plain": [
       "<Figure size 432x288 with 2 Axes>"
      ]
     },
     "metadata": {
      "needs_background": "light"
     },
     "output_type": "display_data"
    }
   ],
   "source": [
    "lr.predict(XTestPca)\n",
    "lrConfusion= confusion_matrix(yTest, lr.predict(XTestPca), labels=[0, 1])\n",
    "seaborn.heatmap(lrConfusion)\n",
    "plt.show()"
   ]
  },
  {
   "cell_type": "code",
   "execution_count": 183,
   "metadata": {},
   "outputs": [
    {
     "name": "stdout",
     "output_type": "stream",
     "text": [
      "Training accuracy: 0.8284477670666929\n",
      "Test accuracy: 0.8283616337769619\n"
     ]
    }
   ],
   "source": [
    "svm = SVC(kernel='linear', C=10, random_state=1)\n",
    "svm.fit(XTrainPca, yTrain)\n",
    "\n",
    "print('Training accuracy:', svm.score(XTrainPca, yTrain))\n",
    "print('Test accuracy:', svm.score(XTestPca, yTest))"
   ]
  },
  {
   "cell_type": "code",
   "execution_count": 184,
   "metadata": {},
   "outputs": [
    {
     "data": {
      "image/png": "[encoded data removed]",
      "text/plain": [
       "<Figure size 432x288 with 2 Axes>"
      ]
     },
     "metadata": {
      "needs_background": "light"
     },
     "output_type": "display_data"
    }
   ],
   "source": [
    "svmConfusion= confusion_matrix(yTest, svm.predict(XTestPca), labels=[0, 1])\n",
    "seaborn.heatmap(svmConfusion)\n",
    "plt.show()"
   ]
  },
  {
   "cell_type": "code",
   "execution_count": 185,
   "metadata": {},
   "outputs": [
    {
     "name": "stdout",
     "output_type": "stream",
     "text": [
      "Training accuracy: 0.7039150108203817\n",
      "Test accuracy: 0.8719596145020652\n"
     ]
    }
   ],
   "source": [
    "tree = DecisionTreeClassifier(criterion='gini', \n",
    "                              max_depth=3, \n",
    "                              random_state=1)\n",
    "tree.fit(XTrainPca, yTrain)\n",
    "print('Training accuracy:', tree.score(XTrainStd, yTrain))\n",
    "print('Test accuracy:', tree.score(XTestPca, yTest))"
   ]
  },
  {
   "cell_type": "code",
   "execution_count": 191,
   "metadata": {},
   "outputs": [
    {
     "data": {
      "image/png": "[encoded data removed]",
      "text/plain": [
       "<Figure size 432x288 with 1 Axes>"
      ]
     },
     "metadata": {
      "needs_background": "light"
     },
     "output_type": "display_data"
    }
   ],
   "source": [
    "train_sizes_tree, train_scores_tree, test_scores_tree =\\\n",
    "                learning_curve(estimator=tree,\n",
    "                               X=XTrainPca,\n",
    "                               y=yTrain,\n",
    "                               train_sizes=np.linspace(0.1, 1.0, 10),\n",
    "                               cv=10,\n",
    "                               n_jobs=1)\n",
    "\n",
    "train_mean_tree = np.mean(train_scores_tree, axis=1)\n",
    "train_std_tree = np.std(train_scores_tree, axis=1)\n",
    "test_mean_tree = np.mean(test_scores_tree, axis=1)\n",
    "test_std_tree = np.std(test_scores_tree, axis=1)\n",
    "\n",
    "plt.plot(train_sizes_tree, train_mean_tree,\n",
    "         color='blue', marker='o',\n",
    "         markersize=5, label='training accuracy')\n",
    "\n",
    "plt.fill_between(train_sizes_tree,\n",
    "                 train_mean_tree + train_std_tree,\n",
    "                 train_mean_tree - train_std_tree,\n",
    "                 alpha=0.15, color='blue')\n",
    "\n",
    "plt.plot(train_sizes_tree, test_mean_tree,\n",
    "         color='green', linestyle='--',\n",
    "         marker='s', markersize=5,\n",
    "         label='validation accuracy')\n",
    "\n",
    "plt.fill_between(train_sizes_tree,\n",
    "                 test_mean_tree + test_std_tree,\n",
    "                 test_mean_tree - test_std_tree,\n",
    "                 alpha=0.15, color='green')\n",
    "\n",
    "plt.grid()\n",
    "plt.xlabel('Number of training samples')\n",
    "plt.ylabel('Accuracy')\n",
    "plt.legend(loc='lower right')\n",
    "plt.ylim([0.8, 1.03])\n",
    "plt.tight_layout()\n",
    "#plt.savefig('images/06_05.png', dpi=300)\n",
    "plt.show()"
   ]
  },
  {
   "cell_type": "code",
   "execution_count": 186,
   "metadata": {},
   "outputs": [
    {
     "data": {
      "image/png": "[encoded data removed]",
      "text/plain": [
       "<Figure size 432x288 with 2 Axes>"
      ]
     },
     "metadata": {
      "needs_background": "light"
     },
     "output_type": "display_data"
    }
   ],
   "source": [
    "treeConfusion= confusion_matrix(yTest, tree.predict(XTestPca), labels=[0, 1])\n",
    "seaborn.heatmap(treeConfusion)\n",
    "plt.show()"
   ]
  }
 ],
 "metadata": {
  "kernelspec": {
   "display_name": "Python 3",
   "language": "python",
   "name": "python3"
  },
  "language_info": {
   "codemirror_mode": {
    "name": "ipython",
    "version": 3
   },
   "file_extension": ".py",
   "mimetype": "text/x-python",
   "name": "python",
   "nbconvert_exporter": "python",
   "pygments_lexer": "ipython3",
   "version": "3.7.6"
  }
 },
 "nbformat": 4,
 "nbformat_minor": 4
}
